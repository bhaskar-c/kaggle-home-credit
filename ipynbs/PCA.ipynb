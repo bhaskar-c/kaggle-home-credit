{
 "cells": [
  {
   "cell_type": "code",
   "execution_count": 2,
   "metadata": {
    "code_folding": [
     0
    ]
   },
   "outputs": [],
   "source": [
    "# imports\n",
    "import numpy as np\n",
    "import tensorflow as tf\n",
    "from keras import backend as K\n",
    "import pandas as pd\n",
    "from keras.models import Sequential\n",
    "from keras.layers import Dense\n",
    "from keras.wrappers.scikit_learn import KerasClassifier\n",
    "from sklearn.model_selection import cross_val_score\n",
    "from sklearn.preprocessing import LabelEncoder\n",
    "from sklearn.model_selection import StratifiedKFold, KFold\n",
    "from sklearn.preprocessing import StandardScaler\n",
    "from sklearn.pipeline import Pipeline\n",
    "\n",
    "def read_csv_data(file_name, debug, server=False, num_rows=200):\n",
    "    if server:\n",
    "        path = '/home/science/data/'\n",
    "        df = pd.read_hdf(path + file_name + '.h5', 'data')\n",
    "    else:\n",
    "        path = '/home/gublu/Desktop/THINKSTATS/Competition/data/'\n",
    "        if debug:\n",
    "            df = pd.read_csv(path + file_name + '.csv', nrows=num_rows)\n",
    "        else:\n",
    "            df = pd.read_csv(path + file_name + '.csv')\n",
    "    for col in list(df):\n",
    "        if str(df[col].dtype) == 'category':\n",
    "            df[col] = df[col].astype('object')\n",
    "    return df\n",
    "def label_encode_it(df):\n",
    "    encode_these_columns = []\n",
    "    for col in list(df):\n",
    "        if col == 'TARGET':\n",
    "            continue\n",
    "        if str(df[col].dtype) in ['object', 'category']:\n",
    "            encode_these_columns.append(col)\n",
    "            df[col] = df[col].astype('category').cat.codes\n",
    "    print(encode_these_columns, '**********')\n",
    "    return df\n",
    "\n",
    "# fix random seed for reproducibility\n",
    "seed = 7\n",
    "np.random.seed(seed)"
   ]
  },
  {
   "cell_type": "code",
   "execution_count": null,
   "metadata": {},
   "outputs": [],
   "source": [
    "df = read_csv_data('shiv', debug=True)\n"
   ]
  }
 ],
 "metadata": {
  "kernelspec": {
   "display_name": "Python 3",
   "language": "python",
   "name": "python3"
  },
  "language_info": {
   "codemirror_mode": {
    "name": "ipython",
    "version": 3
   },
   "file_extension": ".py",
   "mimetype": "text/x-python",
   "name": "python",
   "nbconvert_exporter": "python",
   "pygments_lexer": "ipython3",
   "version": "3.6.4"
  }
 },
 "nbformat": 4,
 "nbformat_minor": 2
}
