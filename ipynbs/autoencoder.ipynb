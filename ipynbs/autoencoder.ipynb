{
 "cells": [
  {
   "cell_type": "code",
   "execution_count": 1,
   "metadata": {},
   "outputs": [
    {
     "name": "stderr",
     "output_type": "stream",
     "text": [
      "Using TensorFlow backend.\n"
     ]
    }
   ],
   "source": [
    "import numpy as np\n",
    "import pandas as pd\n",
    "import matplotlib.pyplot as plt\n",
    "\n",
    "from keras.models import Model\n",
    "from keras.layers import Input, Dense\n",
    "from keras.regularizers import l2"
   ]
  },
  {
   "cell_type": "code",
   "execution_count": 11,
   "metadata": {},
   "outputs": [],
   "source": [
    "df = pd.read_hdf('/home/gublu/Desktop/THINKSTATS/Competition/hdf/maya.h5', 'data')"
   ]
  },
  {
   "cell_type": "code",
   "execution_count": 13,
   "metadata": {},
   "outputs": [],
   "source": [
    "df = df.fillna(df.mean())\n",
    "df = df.drop('TARGET',1)\n",
    "df = df.drop(['NEW_LIVE_IND_KURT', 'B_DAYS_CREDIT_ENDDATE_SUM'], 1)"
   ]
  },
  {
   "cell_type": "code",
   "execution_count": 14,
   "metadata": {},
   "outputs": [
    {
     "name": "stdout",
     "output_type": "stream",
     "text": [
      "(356250, 218)\n"
     ]
    }
   ],
   "source": [
    "print(df.shape)\n",
    "for col in list(df):\n",
    "    if df[col].isnull().sum() > 0:\n",
    "        print(col, df[col].isnull().sum())"
   ]
  },
  {
   "cell_type": "code",
   "execution_count": 16,
   "metadata": {},
   "outputs": [],
   "source": [
    "def autoencoder(encoding_dim, decoding_dim, activation, X, nb_epoch):\n",
    "    # set parameters\n",
    "    input_data = Input(shape=(encoding_dim,))\n",
    "    # set layer\n",
    "    encoded = Dense(decoding_dim, activation=activation, W_regularizer=l2(0.0001))(input_data)\n",
    "    decoded = Dense(encoding_dim, activation=activation, W_regularizer=l2(0.0001))(encoded)\n",
    "\n",
    "    # set autoencoder\n",
    "    _autoencoder = Model(input=input_data, output=decoded)\n",
    "    _encoder = Model(input=input_data, output=encoded)\n",
    "\n",
    "    # compile\n",
    "    _autoencoder.compile(loss='mse', optimizer='adam')\n",
    "    # fit autoencoder\n",
    "    _autoencoder.fit(X,X, nb_epoch=nb_epoch, verbose=1)\n",
    "    return _encoder"
   ]
  },
  {
   "cell_type": "code",
   "execution_count": 19,
   "metadata": {},
   "outputs": [],
   "source": [
    "trX = [np.array(df.drop(['SK_ID_CURR',], axis=1))] # trX[0].shape = (356250, 217)_X = trX[i]"
   ]
  },
  {
   "cell_type": "code",
   "execution_count": 27,
   "metadata": {},
   "outputs": [
    {
     "ename": "IndexError",
     "evalue": "list index out of range",
     "output_type": "error",
     "traceback": [
      "\u001b[0;31m---------------------------------------------------------------------------\u001b[0m",
      "\u001b[0;31mIndexError\u001b[0m                                Traceback (most recent call last)",
      "\u001b[0;32m<ipython-input-27-881d5a868c18>\u001b[0m in \u001b[0;36m<module>\u001b[0;34m()\u001b[0m\n\u001b[0;32m----> 1\u001b[0;31m \u001b[0mtrX\u001b[0m\u001b[0;34m[\u001b[0m\u001b[0;36m1\u001b[0m\u001b[0;34m]\u001b[0m\u001b[0;34m\u001b[0m\u001b[0m\n\u001b[0m",
      "\u001b[0;31mIndexError\u001b[0m: list index out of range"
     ]
    }
   ],
   "source": [
    "trX[1]"
   ]
  }
 ],
 "metadata": {
  "kernelspec": {
   "display_name": "Python 3",
   "language": "python",
   "name": "python3"
  },
  "language_info": {
   "codemirror_mode": {
    "name": "ipython",
    "version": 3
   },
   "file_extension": ".py",
   "mimetype": "text/x-python",
   "name": "python",
   "nbconvert_exporter": "python",
   "pygments_lexer": "ipython3",
   "version": "3.6.4"
  }
 },
 "nbformat": 4,
 "nbformat_minor": 2
}
